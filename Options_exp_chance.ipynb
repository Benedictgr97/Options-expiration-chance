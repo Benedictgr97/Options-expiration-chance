{
 "cells": [
  {
   "cell_type": "code",
   "execution_count": 68,
   "metadata": {},
   "outputs": [],
   "source": [
    "#my alpha vantage api key to get data\n",
    "#alpha vantage\n",
    "key = 'DMBPCGJ6BBY2GAC3'\n",
    "from alpha_vantage.timeseries import TimeSeries\n",
    "from alpha_vantage.techindicators import TechIndicators\n",
    "from pandas_datareader import data\n",
    "\n",
    "from datetime import datetime,timedelta,date\n",
    "import time\n",
    "\n",
    "import progressbar\n",
    "from time import sleep\n",
    "import random \n",
    "\n",
    "\n",
    "import seaborn as sns \n",
    "import pandas as pd\n",
    "import numpy as np \n",
    "import matplotlib.pyplot as plt\n",
    "%matplotlib inline\n",
    "\n",
    "import warnings\n",
    "warnings.simplefilter('ignore', np.RankWarning)"
   ]
  },
  {
   "cell_type": "code",
   "execution_count": 69,
   "metadata": {},
   "outputs": [],
   "source": [
    "ts = TimeSeries(key,output_format = 'pandas')\n",
    "#daily open close average and volume of daily stock\n",
    "day_stock, dat_meta = ts.get_daily(symbol = 'MSFT',outputsize = 'full')"
   ]
  },
  {
   "cell_type": "code",
   "execution_count": 77,
   "metadata": {},
   "outputs": [
    {
     "data": {
      "text/plain": [
       "date\n",
       "2021-10-07    296.640\n",
       "2021-10-06    293.630\n",
       "2021-10-05    290.398\n",
       "2021-10-04    287.750\n",
       "2021-10-01    289.980\n",
       "               ...   \n",
       "2021-05-24    251.160\n",
       "2021-05-21    248.330\n",
       "2021-05-20    247.950\n",
       "2021-05-19    243.230\n",
       "2021-05-18    246.410\n",
       "Name: 2. high, Length: 100, dtype: float64"
      ]
     },
     "execution_count": 77,
     "metadata": {},
     "output_type": "execute_result"
    }
   ],
   "source": [
    "day_stock.iloc[:100,1]"
   ]
  },
  {
   "cell_type": "code",
   "execution_count": 83,
   "metadata": {},
   "outputs": [
    {
     "name": "stderr",
     "output_type": "stream",
     "text": [
      "[=                                                                       ]   2%\r"
     ]
    },
    {
     "name": "stdout",
     "output_type": "stream",
     "text": [
      "Current stock price: 296.64\n",
      "mean change: 0.25775034293552807\n",
      "std: 2.6640340654894716\n",
      "mean overall movement: 11.083264746227707\n"
     ]
    },
    {
     "name": "stderr",
     "output_type": "stream",
     "text": [
      "[========================================================================] 100%\n"
     ]
    },
    {
     "name": "stdout",
     "output_type": "stream",
     "text": [
      "Average return: 0.6129518540000011\n"
     ]
    },
    {
     "data": {
      "image/png": "[encoded data removed]",
      "text/plain": [
       "<Figure size 432x288 with 1 Axes>"
      ]
     },
     "metadata": {
      "needs_background": "light"
     },
     "output_type": "display_data"
    }
   ],
   "source": [
    "#price at start and end, expiry,ticker \n",
    "#checks to see the average return on a bulish credit spread \n",
    "#uses the buy and sell price for when the option expires \n",
    "def bull_cred(ticker,years,buy_price,sell_price,expiry):\n",
    "    \n",
    "    ts = TimeSeries(key,output_format = 'pandas')\n",
    "    day_stock, dat_meta = ts.get_daily(symbol = ticker,outputsize = 'full')\n",
    "    \n",
    "    #Use the closing price as this is the price the european \n",
    "    stock_price  = day_stock.iloc[:365*years,1]\n",
    "    \n",
    "    #calculates the number of days till the option expires \n",
    "    delta = datetime.strptime(expiry, '%Y-%m-%d') - datetime.today()\n",
    "    days = delta.days\n",
    "    \n",
    "    #current price\n",
    "    cur_price = stock_price[0]\n",
    "    print('Current stock price:', cur_price)\n",
    "    \n",
    "    #diff of daily prices, uses all of stock prices history to calculate the change \n",
    "    diff_arr = np.array([])\n",
    "    for i in range(0,len(stock_price)-1):\n",
    "        #goes latest to earliest \n",
    "        change = stock_price[i]-stock_price[i+1]\n",
    "        diff_arr = np.append(diff_arr,np.array([change]))\n",
    "        \n",
    "    print('mean change:',np.mean(diff_arr))\n",
    "    print('std:',np.std(diff_arr))\n",
    "    print('mean overall movement:',np.mean(diff_arr) * days)\n",
    "    \n",
    "    \n",
    "    y = 0\n",
    "    # number of times the random price change is itterated over \n",
    "    iter = 100000\n",
    "    bar = progressbar.ProgressBar(maxval=iter, \\\n",
    "    widgets=[progressbar.Bar('=', '[', ']'), ' ', progressbar.Percentage()])\n",
    "    bar.start()\n",
    "    \n",
    "    end_rng = np.array([])\n",
    "    \n",
    "    #use random change in stock price between days to find the distbution of returns over a given period \n",
    "    for i in range(0,iter):\n",
    "        x = 0\n",
    "        for j in range(0,days): \n",
    "            x += diff_arr[random.randint(0,len(diff_arr)-1)] \n",
    "        end_rng = np.append(end_rng,np.array([x]))\n",
    "        bar.update(i + 1)  \n",
    "    \n",
    "    bar.finish() \n",
    "    \n",
    "    #profit loss array \n",
    "    pl_array = np.array([])\n",
    "    \n",
    "    #works out the profit and loss based on the how far the end price is from each and if the options expires itm\n",
    "    for i in end_rng:\n",
    "        #profit loss starts off as 0\n",
    "        pl = 0\n",
    "        #end_rng is the difference in price so current needs to be added back on find the final price \n",
    "        i = i + cur_price \n",
    "        buy_diff  = i - buy_price  \n",
    "        if buy_diff  < 0:\n",
    "            pl += buy_diff\n",
    "        sell_diff = i - sell_price \n",
    "        if sell_diff < 0:\n",
    "            pl -= sell_diff\n",
    "        pl_array = np.append(pl_array,pl)\n",
    "    \n",
    "    #average profit for option \n",
    "    print('Average return:',np.mean(pl_array))\n",
    "    \n",
    "    #random outputs of options \n",
    "    pl_array_norm = np.array([])\n",
    "    \n",
    "    #tries n number of iterations on the code to look at the distrubution of the average return \n",
    "    for i in range(0,5000):\n",
    "        h = 0\n",
    "        for j in range(0,2000):\n",
    "            h += pl_array[random.randint(0,len(pl_array)-1)] \n",
    "        h = h/2000\n",
    "        pl_array_norm = np.append(pl_array_norm,np.array([h]))\n",
    "            \n",
    "           \n",
    "    #shows the distrubution of loss and gain without taking into aco\n",
    "    sns.distplot(pl_array_norm ,kde = True)\n",
    "    \n",
    "bull_cred('MSFT',2,285,290,'2021-11-21')   "
   ]
  },
  {
   "cell_type": "code",
   "execution_count": 84,
   "metadata": {},
   "outputs": [
    {
     "name": "stdout",
     "output_type": "stream",
     "text": [
      "294.85\n",
      "Chance of expiration: 0.712624\n"
     ]
    }
   ],
   "source": [
    "# finds the probablity of stock moving beyond a given strike price at or before the expiry date (as it is a us option )\n",
    "def exp_option_us(ticker,years,end_date,target_price):#ticker and target percentage probability \n",
    "    #stock price \n",
    "    ts = TimeSeries(key,output_format = 'pandas')\n",
    "    day_stock, dat_meta = ts.get_daily(symbol = ticker,outputsize = 'full')\n",
    "    # uses the high and low prices to see if the stock goes beyond the price on a given day.\n",
    "    # 900 days chosen arbitrarily but can easily be changed dependent on the stock \n",
    "    prev_days = 365*years\n",
    "    stock_price = day_stock.iloc[:prev_days,3].to_numpy()\n",
    "    stock_price_high = day_stock.iloc[:prev_days,1].to_numpy()\n",
    "    stock_price_low = day_stock.iloc[:prev_days,2].to_numpy()\n",
    "    \n",
    "    #current price\n",
    "    cur_price = stock_price[0]\n",
    "    print(cur_price)\n",
    "    \n",
    "    #works out the target price of the stock \n",
    "    price_change = target_price - cur_price\n",
    "    \n",
    "    #diff of daily prices\n",
    "    #look at the difference between days and between the high and low and given price for the day \n",
    "    diff_arr = np.array([])\n",
    "    diff_max = np.array([])\n",
    "    diff_min = np.array([])\n",
    "    for i in range(0,len(stock_price)-1):\n",
    "        change = stock_price[i]-stock_price[i+1]\n",
    "        max_change = stock_price_high[i] - stock_price[i+1]\n",
    "        min_change = stock_price_low[i] - stock_price[i+1] \n",
    "        diff_arr = np.append(diff_arr,np.array([change]))\n",
    "        diff_max = np.append(diff_arr,np.array([max_change]))\n",
    "        diff_min = np.append(diff_arr,np.array([min_change]))\n",
    "    \n",
    "    #calculates the number of days till the option expires \n",
    "    delta = datetime.strptime(end_date, '%Y-%m-%d') - datetime.today()\n",
    "    days = delta.days\n",
    "    \n",
    "    \n",
    "    y = 0\n",
    "    iter = 500000\n",
    "    \n",
    "    for i in range(0,iter):\n",
    "        x = 0\n",
    "        for j in range(0,days):\n",
    "            # do x max and min \n",
    "            x += diff_arr[random.randint(0,len(diff_arr)-1)] \n",
    "            xmax = x + diff_max[random.randint(0,len(diff_arr)-1)]\n",
    "            xmin = x + diff_min[random.randint(0,len(diff_arr)-1)]\n",
    "            #Checks to see if the price is outside of the defined price in which case it expires \n",
    "            if (xmin > price_change and price_change > 0) or (xmax < price_change and price_change < 0):\n",
    "                y += 1\n",
    "                break\n",
    "     \n",
    "    #Chance of experiation over the target price \n",
    "    chance = y/iter\n",
    "    \n",
    "    print('Chance of expiration:',chance ) \n",
    "    \n",
    "    \n",
    "exp_option_us('MSFT',1,'2021-11-16',290)"
   ]
  },
  {
   "cell_type": "code",
   "execution_count": 85,
   "metadata": {},
   "outputs": [
    {
     "name": "stderr",
     "output_type": "stream",
     "text": [
      "[=                                                                       ]   2%\r"
     ]
    },
    {
     "name": "stdout",
     "output_type": "stream",
     "text": [
      "294.85\n",
      "mean price change: 0.257764060356653\n",
      "std price change: 3.449518187746983\n",
      "mean movement: 11.08385459533608\n"
     ]
    },
    {
     "name": "stderr",
     "output_type": "stream",
     "text": [
      "[========================================================================] 100%\r"
     ]
    },
    {
     "name": "stdout",
     "output_type": "stream",
     "text": [
      "Chance of expiration: 0.12334\n",
      "0.12334\n"
     ]
    },
    {
     "name": "stderr",
     "output_type": "stream",
     "text": [
      "\n"
     ]
    }
   ],
   "source": [
    "#same as the previous but does not check if the price maves beyond the strike price before due to it being a european option.\n",
    "def exp_option_eur(ticker,years,end_date,target_price):#ticker and target percentage probability \n",
    "    #stock price \n",
    "    ts = TimeSeries(key,output_format = 'pandas')\n",
    "    day_stock, dat_meta = ts.get_daily(symbol = ticker,outputsize = 'full')\n",
    "    #year sees how far to look back with the data \n",
    "    stock_price = day_stock.iloc[:365*years,3].to_numpy()\n",
    "    \n",
    "    #current price\n",
    "    cur_price = stock_price[0]\n",
    "    print(cur_price)\n",
    "    \n",
    "    #works out the target price of the stock \n",
    "    price_change = target_price - cur_price\n",
    "    \n",
    "    #diff of daily prices\n",
    "    diff_arr = np.array([])\n",
    "    for i in range(0,len(stock_price)-1):#\n",
    "        #goes latest to earliest \n",
    "        change = stock_price[i]-stock_price[i+1]\n",
    "        diff_arr = np.append(diff_arr,np.array([change]))\n",
    "    \n",
    "    #calculates the number of days till the option expires \n",
    "    delta = datetime.strptime(end_date, '%Y-%m-%d') - datetime.today()\n",
    "    days = delta.days\n",
    "    \n",
    "    print('mean price change:',np.mean(diff_arr))\n",
    "    print('std price change:',np.std(diff_arr))\n",
    "    print('mean movement:',np.mean(diff_arr) * days)\n",
    "    \n",
    "    y = 0\n",
    "    iter = 100000\n",
    "    bar = progressbar.ProgressBar(maxval=iter, \\\n",
    "    widgets=[progressbar.Bar('=', '[', ']'), ' ', progressbar.Percentage()])\n",
    "    bar.start()\n",
    "    \n",
    "    end_rng = np.array([])\n",
    "    \n",
    "    for i in range(0,iter):\n",
    "        x = 0\n",
    "        #print()\n",
    "        for j in range(0,days):\n",
    "            # do x max and min \n",
    "            x += diff_arr[random.randint(0,len(diff_arr)-1)] \n",
    "            #print(x)\n",
    "        #print(x)\n",
    "        end_rng = np.append(end_rng,np.array([x]))\n",
    "        if (x > price_change and price_change > 0) or (x < price_change and price_change < 0):\n",
    "            #print('Y')\n",
    "            y += 1\n",
    "        bar.update(i + 1)\n",
    "        \n",
    "    chance = y/iter\n",
    "    \n",
    "    bar.finish() \n",
    "    \n",
    "    print('Chance of expiration:',chance ) \n",
    "    return chance,end_rng\n",
    "    \n",
    "    \n",
    "chance,end_rng = exp_option_eur('MSFT',2,'2021-11-21',280)\n",
    "print(chance)"
   ]
  }
 ],
 "metadata": {
  "kernelspec": {
   "display_name": "Python 3",
   "language": "python",
   "name": "python3"
  },
  "language_info": {
   "codemirror_mode": {
    "name": "ipython",
    "version": 3
   },
   "file_extension": ".py",
   "mimetype": "text/x-python",
   "name": "python",
   "nbconvert_exporter": "python",
   "pygments_lexer": "ipython3",
   "version": "3.8.3"
  }
 },
 "nbformat": 4,
 "nbformat_minor": 4
}
